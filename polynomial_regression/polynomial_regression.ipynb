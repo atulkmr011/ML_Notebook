{
 "cells": [
  {
   "cell_type": "code",
   "execution_count": 1,
   "metadata": {},
   "outputs": [
    {
     "data": {
      "text/html": [
       "<div>\n",
       "<style scoped>\n",
       "    .dataframe tbody tr th:only-of-type {\n",
       "        vertical-align: middle;\n",
       "    }\n",
       "\n",
       "    .dataframe tbody tr th {\n",
       "        vertical-align: top;\n",
       "    }\n",
       "\n",
       "    .dataframe thead th {\n",
       "        text-align: right;\n",
       "    }\n",
       "</style>\n",
       "<table border=\"1\" class=\"dataframe\">\n",
       "  <thead>\n",
       "    <tr style=\"text-align: right;\">\n",
       "      <th></th>\n",
       "      <th>Age</th>\n",
       "      <th>Height</th>\n",
       "    </tr>\n",
       "  </thead>\n",
       "  <tbody>\n",
       "    <tr>\n",
       "      <th>0</th>\n",
       "      <td>10</td>\n",
       "      <td>138</td>\n",
       "    </tr>\n",
       "    <tr>\n",
       "      <th>1</th>\n",
       "      <td>11</td>\n",
       "      <td>138</td>\n",
       "    </tr>\n",
       "    <tr>\n",
       "      <th>2</th>\n",
       "      <td>12</td>\n",
       "      <td>138</td>\n",
       "    </tr>\n",
       "    <tr>\n",
       "      <th>3</th>\n",
       "      <td>13</td>\n",
       "      <td>139</td>\n",
       "    </tr>\n",
       "    <tr>\n",
       "      <th>4</th>\n",
       "      <td>14</td>\n",
       "      <td>139</td>\n",
       "    </tr>\n",
       "  </tbody>\n",
       "</table>\n",
       "</div>"
      ],
      "text/plain": [
       "   Age  Height\n",
       "0   10     138\n",
       "1   11     138\n",
       "2   12     138\n",
       "3   13     139\n",
       "4   14     139"
      ]
     },
     "execution_count": 1,
     "metadata": {},
     "output_type": "execute_result"
    }
   ],
   "source": [
    "# Import necessary libraries \n",
    "import pandas as pd \n",
    "import numpy as np \n",
    "import matplotlib.pyplot as plt \n",
    "\n",
    "# Import the Height Weight Dataset \n",
    "data = pd.read_csv('Height_Weight_Dataset.csv') \n",
    "data.head()"
   ]
  },
  {
   "cell_type": "code",
   "execution_count": 2,
   "metadata": {},
   "outputs": [],
   "source": [
    "#Store the data in the form of dependent and independent variables separately\n",
    "X = data.iloc[:, 0:1].values \n",
    "y = data.iloc[:, 1].values"
   ]
  },
  {
   "cell_type": "code",
   "execution_count": 3,
   "metadata": {},
   "outputs": [],
   "source": [
    "#Split the Dataset into Training and Test Dataset\n",
    "from sklearn.model_selection import train_test_split\n",
    "X_train, X_test, y_train, y_test = train_test_split(X, y, test_size=0.3, random_state=0)"
   ]
  },
  {
   "cell_type": "code",
   "execution_count": 4,
   "metadata": {},
   "outputs": [
    {
     "data": {
      "text/plain": [
       "LinearRegression()"
      ]
     },
     "execution_count": 4,
     "metadata": {},
     "output_type": "execute_result"
    }
   ],
   "source": [
    "#Fit the Simple Linear Regression Model\n",
    "from sklearn.linear_model import LinearRegression\n",
    "LinReg = LinearRegression()\n",
    "LinReg.fit(X_train, y_train)"
   ]
  },
  {
   "cell_type": "code",
   "execution_count": 5,
   "metadata": {},
   "outputs": [
    {
     "data": {
      "image/png": "[encoded data removed]",
      "text/plain": [
       "<Figure size 432x288 with 1 Axes>"
      ]
     },
     "metadata": {
      "needs_background": "light"
     },
     "output_type": "display_data"
    }
   ],
   "source": [
    "# Visualise the Linear Regression Result\n",
    "plt.scatter(X_train, y_train, color = 'green') \n",
    "  \n",
    "plt.plot(X_train, LinReg.predict(X_train), color = 'blue') \n",
    "plt.title('Linear Regression') \n",
    "plt.xlabel('Age') \n",
    "plt.ylabel('Height') \n",
    "  \n",
    "plt.show()"
   ]
  },
  {
   "cell_type": "code",
   "execution_count": 13,
   "metadata": {},
   "outputs": [
    {
     "data": {
      "text/plain": [
       "array([[1.00000e+00, 1.20000e+01, 1.44000e+02, 1.72800e+03],\n",
       "       [1.00000e+00, 5.00000e+01, 2.50000e+03, 1.25000e+05],\n",
       "       [1.00000e+00, 2.10000e+01, 4.41000e+02, 9.26100e+03],\n",
       "       [1.00000e+00, 1.30000e+01, 1.69000e+02, 2.19700e+03],\n",
       "       [1.00000e+00, 6.40000e+01, 4.09600e+03, 2.62144e+05],\n",
       "       [1.00000e+00, 5.50000e+01, 3.02500e+03, 1.66375e+05],\n",
       "       [1.00000e+00, 2.00000e+01, 4.00000e+02, 8.00000e+03],\n",
       "       [1.00000e+00, 5.10000e+01, 2.60100e+03, 1.32651e+05],\n",
       "       [1.00000e+00, 5.90000e+01, 3.48100e+03, 2.05379e+05],\n",
       "       [1.00000e+00, 6.30000e+01, 3.96900e+03, 2.50047e+05],\n",
       "       [1.00000e+00, 6.70000e+01, 4.48900e+03, 3.00763e+05],\n",
       "       [1.00000e+00, 4.20000e+01, 1.76400e+03, 7.40880e+04],\n",
       "       [1.00000e+00, 2.40000e+01, 5.76000e+02, 1.38240e+04],\n",
       "       [1.00000e+00, 7.80000e+01, 6.08400e+03, 4.74552e+05],\n",
       "       [1.00000e+00, 2.90000e+01, 8.41000e+02, 2.43890e+04],\n",
       "       [1.00000e+00, 3.90000e+01, 1.52100e+03, 5.93190e+04],\n",
       "       [1.00000e+00, 6.20000e+01, 3.84400e+03, 2.38328e+05],\n",
       "       [1.00000e+00, 4.50000e+01, 2.02500e+03, 9.11250e+04],\n",
       "       [1.00000e+00, 2.80000e+01, 7.84000e+02, 2.19520e+04],\n",
       "       [1.00000e+00, 1.00000e+01, 1.00000e+02, 1.00000e+03],\n",
       "       [1.00000e+00, 2.50000e+01, 6.25000e+02, 1.56250e+04],\n",
       "       [1.00000e+00, 1.50000e+01, 2.25000e+02, 3.37500e+03],\n",
       "       [1.00000e+00, 2.60000e+01, 6.76000e+02, 1.75760e+04],\n",
       "       [1.00000e+00, 3.00000e+01, 9.00000e+02, 2.70000e+04],\n",
       "       [1.00000e+00, 7.60000e+01, 5.77600e+03, 4.38976e+05],\n",
       "       [1.00000e+00, 1.80000e+01, 3.24000e+02, 5.83200e+03],\n",
       "       [1.00000e+00, 2.30000e+01, 5.29000e+02, 1.21670e+04],\n",
       "       [1.00000e+00, 3.50000e+01, 1.22500e+03, 4.28750e+04],\n",
       "       [1.00000e+00, 4.70000e+01, 2.20900e+03, 1.03823e+05],\n",
       "       [1.00000e+00, 2.70000e+01, 7.29000e+02, 1.96830e+04],\n",
       "       [1.00000e+00, 7.00000e+01, 4.90000e+03, 3.43000e+05],\n",
       "       [1.00000e+00, 5.60000e+01, 3.13600e+03, 1.75616e+05],\n",
       "       [1.00000e+00, 7.30000e+01, 5.32900e+03, 3.89017e+05],\n",
       "       [1.00000e+00, 4.90000e+01, 2.40100e+03, 1.17649e+05],\n",
       "       [1.00000e+00, 4.80000e+01, 2.30400e+03, 1.10592e+05],\n",
       "       [1.00000e+00, 1.10000e+01, 1.21000e+02, 1.33100e+03],\n",
       "       [1.00000e+00, 6.80000e+01, 4.62400e+03, 3.14432e+05],\n",
       "       [1.00000e+00, 2.20000e+01, 4.84000e+02, 1.06480e+04],\n",
       "       [1.00000e+00, 7.10000e+01, 5.04100e+03, 3.57911e+05],\n",
       "       [1.00000e+00, 3.40000e+01, 1.15600e+03, 3.93040e+04],\n",
       "       [1.00000e+00, 1.60000e+01, 2.56000e+02, 4.09600e+03],\n",
       "       [1.00000e+00, 3.30000e+01, 1.08900e+03, 3.59370e+04],\n",
       "       [1.00000e+00, 4.60000e+01, 2.11600e+03, 9.73360e+04],\n",
       "       [1.00000e+00, 3.10000e+01, 9.61000e+02, 2.97910e+04],\n",
       "       [1.00000e+00, 1.90000e+01, 3.61000e+02, 6.85900e+03],\n",
       "       [1.00000e+00, 7.70000e+01, 5.92900e+03, 4.56533e+05],\n",
       "       [1.00000e+00, 7.40000e+01, 5.47600e+03, 4.05224e+05],\n",
       "       [1.00000e+00, 5.70000e+01, 3.24900e+03, 1.85193e+05],\n",
       "       [1.00000e+00, 5.40000e+01, 2.91600e+03, 1.57464e+05]])"
      ]
     },
     "execution_count": 13,
     "metadata": {},
     "output_type": "execute_result"
    }
   ],
   "source": [
    "# Add the polynomial term to the equation/model\n",
    "from sklearn.preprocessing import PolynomialFeatures \n",
    "  \n",
    "polynom = PolynomialFeatures(degree = 3) \n",
    "X_polynom = polynom.fit_transform(X_train) \n",
    "  \n",
    "X_polynom"
   ]
  },
  {
   "cell_type": "code",
   "execution_count": 14,
   "metadata": {},
   "outputs": [
    {
     "data": {
      "text/plain": [
       "LinearRegression()"
      ]
     },
     "execution_count": 14,
     "metadata": {},
     "output_type": "execute_result"
    }
   ],
   "source": [
    "#Fit the Polynomial Regression Model \n",
    "PolyReg = LinearRegression() \n",
    "PolyReg.fit(X_polynom, y_train)"
   ]
  },
  {
   "cell_type": "code",
   "execution_count": 15,
   "metadata": {},
   "outputs": [
    {
     "data": {
      "image/png": "[encoded data removed]",
      "text/plain": [
       "<Figure size 432x288 with 1 Axes>"
      ]
     },
     "metadata": {
      "needs_background": "light"
     },
     "output_type": "display_data"
    }
   ],
   "source": [
    "# Visualise the Polynomial Regression Results \n",
    "plt.scatter(X_train, y_train, color = 'green') \n",
    "  \n",
    "plt.plot(X_train, PolyReg.predict(polynom.fit_transform(X_train)), color = 'blue') \n",
    "plt.title('Polynomial Regression') \n",
    "plt.xlabel('Age') \n",
    "plt.ylabel('Height') \n",
    "  \n",
    "plt.show()"
   ]
  },
  {
   "cell_type": "code",
   "execution_count": 16,
   "metadata": {},
   "outputs": [
    {
     "name": "stdout",
     "output_type": "stream",
     "text": [
      "R-Square Error associated with Simple Linear Regression: 0.8727873738671587\n"
     ]
    }
   ],
   "source": [
    "#Predicted Height from test dataset w.r.t Simple Linear Regression\n",
    "y_predict_slr = LinReg.predict(X_test)\n",
    "\n",
    "#Model Evaluation using R-Square for Simple Linear Regression\n",
    "from sklearn import metrics\n",
    "r_square = metrics.r2_score(y_test, y_predict_slr)\n",
    "print('R-Square Error associated with Simple Linear Regression:', r_square)"
   ]
  },
  {
   "cell_type": "code",
   "execution_count": 17,
   "metadata": {},
   "outputs": [
    {
     "name": "stdout",
     "output_type": "stream",
     "text": [
      "R-Square Error associated with Polynomial Regression is: 0.9927634092095862\n"
     ]
    }
   ],
   "source": [
    "#Predicted Height from test dataset w.r.t Polynomial Regression\n",
    "y_predict_pr = PolyReg.predict(polynom.fit_transform(X_test))\n",
    "\n",
    "#Model Evaluation using R-Square for Polynomial Regression\n",
    "from sklearn import metrics\n",
    "r_square = metrics.r2_score(y_test, y_predict_pr)\n",
    "print('R-Square Error associated with Polynomial Regression is:', r_square)"
   ]
  },
  {
   "cell_type": "code",
   "execution_count": 18,
   "metadata": {},
   "outputs": [
    {
     "data": {
      "text/plain": [
       "array([168.52966207])"
      ]
     },
     "execution_count": 18,
     "metadata": {},
     "output_type": "execute_result"
    }
   ],
   "source": [
    "LinReg.predict([[53]])"
   ]
  },
  {
   "cell_type": "code",
   "execution_count": 19,
   "metadata": {},
   "outputs": [
    {
     "data": {
      "text/plain": [
       "array([161.33273189])"
      ]
     },
     "execution_count": 19,
     "metadata": {},
     "output_type": "execute_result"
    }
   ],
   "source": [
    "# Predicting Height based on Age using Polynomial Regression \n",
    "PolyReg.predict(polynom.fit_transform([[53]]))"
   ]
  },
  {
   "cell_type": "code",
   "execution_count": null,
   "metadata": {},
   "outputs": [],
   "source": []
  }
 ],
 "metadata": {
  "kernelspec": {
   "display_name": "Python 3",
   "language": "python",
   "name": "python3"
  },
  "language_info": {
   "codemirror_mode": {
    "name": "ipython",
    "version": 3
   },
   "file_extension": ".py",
   "mimetype": "text/x-python",
   "name": "python",
   "nbconvert_exporter": "python",
   "pygments_lexer": "ipython3",
   "version": "3.8.3"
  }
 },
 "nbformat": 4,
 "nbformat_minor": 4
}
